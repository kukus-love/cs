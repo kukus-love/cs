{
 "cells": [
  {
   "cell_type": "code",
   "execution_count": 22,
   "metadata": {},
   "outputs": [],
   "source": [
    "num = [17,55,98,21,34,11]"
   ]
  },
  {
   "cell_type": "code",
   "execution_count": 23,
   "metadata": {},
   "outputs": [],
   "source": [
    "upperB = 5\n",
    "lowerB = 0"
   ]
  },
  {
   "cell_type": "code",
   "execution_count": 25,
   "metadata": {},
   "outputs": [
    {
     "name": "stdout",
     "output_type": "stream",
     "text": [
      "[11, 17, 21, 34, 55, 98]\n"
     ]
    }
   ],
   "source": [
    "for i in range(1,len(num)):\n",
    "    key = num[i]\n",
    "    place = i - 1\n",
    "    if num[place]> key:\n",
    "        while place >= lowerB and num[place]>key:\n",
    "            temp = num[place+1]\n",
    "            num[place + 1] = num[place]\n",
    "            num[place] = temp \n",
    "            place = place - 1\n",
    "        num[place + 1] = key \n",
    "    \n",
    "print(num)"
   ]
  },
  {
   "cell_type": "code",
   "execution_count": null,
   "metadata": {},
   "outputs": [],
   "source": []
  }
 ],
 "metadata": {
  "kernelspec": {
   "display_name": "Python 3",
   "language": "python",
   "name": "python3"
  },
  "language_info": {
   "codemirror_mode": {
    "name": "ipython",
    "version": 3
   },
   "file_extension": ".py",
   "mimetype": "text/x-python",
   "name": "python",
   "nbconvert_exporter": "python",
   "pygments_lexer": "ipython3",
   "version": "3.7.6"
  }
 },
 "nbformat": 4,
 "nbformat_minor": 4
}
