{
 "cells": [
  {
   "cell_type": "code",
   "execution_count": 2,
   "metadata": {},
   "outputs": [],
   "source": [
    "#insertion sort "
   ]
  },
  {
   "cell_type": "code",
   "execution_count": 7,
   "metadata": {},
   "outputs": [],
   "source": [
    "num = [17,55,98,21,34,11]"
   ]
  },
  {
   "cell_type": "code",
   "execution_count": 8,
   "metadata": {},
   "outputs": [],
   "source": [
    "upperB = 5\n",
    "lowerB = 0"
   ]
  },
  {
   "cell_type": "code",
   "execution_count": 9,
   "metadata": {},
   "outputs": [
    {
     "name": "stdout",
     "output_type": "stream",
     "text": [
      "key is  55\n",
      "num[place]  17\n",
      "key is  98\n",
      "num[place]  55\n",
      "key is  21\n",
      "num[place]  98\n",
      "swap  [17, 55, 21, 98, 34, 11]\n",
      "swap  [17, 21, 55, 98, 34, 11]\n",
      "key is  34\n",
      "num[place]  98\n",
      "swap  [17, 21, 55, 34, 98, 11]\n",
      "swap  [17, 21, 34, 55, 98, 11]\n",
      "key is  11\n",
      "num[place]  98\n",
      "swap  [17, 21, 34, 55, 11, 98]\n",
      "swap  [17, 21, 34, 11, 55, 98]\n",
      "swap  [17, 21, 11, 34, 55, 98]\n",
      "swap  [17, 11, 21, 34, 55, 98]\n",
      "swap  [11, 17, 21, 34, 55, 98]\n",
      "organised [11, 17, 21, 34, 55, 98]\n"
     ]
    }
   ],
   "source": [
    "for i in range(1,len(num)):\n",
    "    key = num[i]\n",
    "    print(\"key is \",key)\n",
    "    place = i - 1\n",
    "    print(\"num[place] \", num[place])\n",
    "    if num[place]> key:\n",
    "        while place >= lowerB and num[place]>key:\n",
    "            temp = num[place+1]\n",
    "            num[place + 1] = num[place]\n",
    "            num[place] = temp\n",
    "            print(\"swap \", num)\n",
    "            place = place - 1\n",
    "        num[place + 1] = key\n",
    "   \n",
    "    \n",
    "print(\"organised\", num)"
   ]
  },
  {
   "cell_type": "code",
   "execution_count": null,
   "metadata": {},
   "outputs": [],
   "source": []
  }
 ],
 "metadata": {
  "kernelspec": {
   "display_name": "Python 3",
   "language": "python",
   "name": "python3"
  },
  "language_info": {
   "codemirror_mode": {
    "name": "ipython",
    "version": 3
   },
   "file_extension": ".py",
   "mimetype": "text/x-python",
   "name": "python",
   "nbconvert_exporter": "python",
   "pygments_lexer": "ipython3",
   "version": "3.7.6"
  }
 },
 "nbformat": 4,
 "nbformat_minor": 4
}
