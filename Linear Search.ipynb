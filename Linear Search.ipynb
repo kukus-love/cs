{
 "cells": [
  {
   "cell_type": "code",
   "execution_count": 21,
   "metadata": {},
   "outputs": [],
   "source": [
    "myList = [5,10,15,20,25,30,35]"
   ]
  },
  {
   "cell_type": "code",
   "execution_count": 20,
   "metadata": {},
   "outputs": [
    {
     "name": "stdout",
     "output_type": "stream",
     "text": [
      "Enter a number: 35\n",
      "35 was found in position:  7\n"
     ]
    }
   ],
   "source": [
    "found = \"false\"\n",
    "index = 1\n",
    "item = int(input(\"Enter a number: \"))\n",
    "while True:\n",
    "    for j in range(7):\n",
    "        if found ==\"false\":\n",
    "            if myList[j] == item:\n",
    "                found = \"true\"\n",
    "            else:\n",
    "                index = index + 1\n",
    "            if found == \"true\":\n",
    "                print(item,\"was found in position: \",index)\n",
    "    break\n",
    "if found == \"false\":\n",
    "    print(\"Item not found\")"
   ]
  },
  {
   "cell_type": "code",
   "execution_count": null,
   "metadata": {},
   "outputs": [],
   "source": []
  },
  {
   "cell_type": "code",
   "execution_count": null,
   "metadata": {},
   "outputs": [],
   "source": []
  }
 ],
 "metadata": {
  "kernelspec": {
   "display_name": "Python 3",
   "language": "python",
   "name": "python3"
  },
  "language_info": {
   "codemirror_mode": {
    "name": "ipython",
    "version": 3
   },
   "file_extension": ".py",
   "mimetype": "text/x-python",
   "name": "python",
   "nbconvert_exporter": "python",
   "pygments_lexer": "ipython3",
   "version": "3.7.6"
  }
 },
 "nbformat": 4,
 "nbformat_minor": 4
}
