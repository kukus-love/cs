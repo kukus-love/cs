{
 "cells": [
  {
   "cell_type": "code",
   "execution_count": 46,
   "metadata": {},
   "outputs": [],
   "source": [
    "num = [80,123,5,32]"
   ]
  },
  {
   "cell_type": "code",
   "execution_count": 47,
   "metadata": {},
   "outputs": [],
   "source": [
    "upperB = 3\n",
    "lowerB = 0\n",
    "index = lowerB \n",
    "temp = 0\n",
    "count = 0"
   ]
  },
  {
   "cell_type": "code",
   "execution_count": 48,
   "metadata": {},
   "outputs": [
    {
     "name": "stdout",
     "output_type": "stream",
     "text": [
      "[5, 32, 80, 123]\n"
     ]
    }
   ],
   "source": [
    "for i in range(upperB):\n",
    "    for i in range(upperB):\n",
    "        if num[i] > num[i+1]:\n",
    "            temp = num[i+1]\n",
    "            num[i+1] = num[i]\n",
    "            num[i] = temp\n",
    "            \n",
    "        \n",
    "    count = count + 1\n",
    "print(num)"
   ]
  },
  {
   "cell_type": "code",
   "execution_count": null,
   "metadata": {},
   "outputs": [],
   "source": []
  },
  {
   "cell_type": "code",
   "execution_count": 54,
   "metadata": {},
   "outputs": [],
   "source": [
    "marks = [32,55,100,89]\n",
    "\n",
    "upperB = 3\n",
    "lowerB = 0\n",
    "index = lowerB \n",
    "temp = 0\n",
    "count = 0\n",
    "swap = False "
   ]
  },
  {
   "cell_type": "code",
   "execution_count": 55,
   "metadata": {},
   "outputs": [
    {
     "name": "stdout",
     "output_type": "stream",
     "text": [
      "[32, 55, 89, 100]\n"
     ]
    }
   ],
   "source": [
    "while swap == False and count <= 4:\n",
    "    for i in range(upperB):\n",
    "        if marks[i] > marks[i+1]:\n",
    "            temp = marks[i]\n",
    "            marks[i] = marks[i+1]\n",
    "            marks[i+1] = temp \n",
    "            swap = True \n",
    "count = count +1\n",
    "print(marks)"
   ]
  },
  {
   "cell_type": "code",
   "execution_count": null,
   "metadata": {},
   "outputs": [],
   "source": []
  }
 ],
 "metadata": {
  "kernelspec": {
   "display_name": "Python 3",
   "language": "python",
   "name": "python3"
  },
  "language_info": {
   "codemirror_mode": {
    "name": "ipython",
    "version": 3
   },
   "file_extension": ".py",
   "mimetype": "text/x-python",
   "name": "python",
   "nbconvert_exporter": "python",
   "pygments_lexer": "ipython3",
   "version": "3.7.6"
  }
 },
 "nbformat": 4,
 "nbformat_minor": 4
}
