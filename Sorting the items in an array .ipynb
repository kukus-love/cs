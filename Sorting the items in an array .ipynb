{
 "cells": [
  {
   "cell_type": "code",
   "execution_count": 1,
   "metadata": {},
   "outputs": [],
   "source": [
    "myList = [24,34,78,90,1,2,4,5]"
   ]
  },
  {
   "cell_type": "code",
   "execution_count": null,
   "metadata": {},
   "outputs": [],
   "source": [
    "upperB = 8 \n",
    "lowerB = 0 \n",
    "top = upperB\n",
    "swap = False\n",
    "while True:\n",
    "    if swap == False or top >= 0:\n",
    "        for i in range(0,7):\n",
    "            swap = False \n",
    "            if myList[i] > myList[i+1]:\n",
    "                swap = True\n",
    "                temp = myList[i+1]\n",
    "                myList[i] = myList[i+1]\n",
    "                myList[i+1] = temp \n",
    "                \n",
    "        top = top - 1\n",
    "    "
   ]
  },
  {
   "cell_type": "code",
   "execution_count": null,
   "metadata": {},
   "outputs": [],
   "source": [
    "print(myList)"
   ]
  },
  {
   "cell_type": "code",
   "execution_count": null,
   "metadata": {},
   "outputs": [],
   "source": []
  }
 ],
 "metadata": {
  "kernelspec": {
   "display_name": "Python 3",
   "language": "python",
   "name": "python3"
  },
  "language_info": {
   "codemirror_mode": {
    "name": "ipython",
    "version": 3
   },
   "file_extension": ".py",
   "mimetype": "text/x-python",
   "name": "python",
   "nbconvert_exporter": "python",
   "pygments_lexer": "ipython3",
   "version": "3.7.6"
  }
 },
 "nbformat": 4,
 "nbformat_minor": 4
}
