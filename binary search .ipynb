{
 "cells": [
  {
   "cell_type": "code",
   "execution_count": 19,
   "metadata": {},
   "outputs": [],
   "source": [
    "myNum = [1,3,7,9,17,45,89,90,150,497]"
   ]
  },
  {
   "cell_type": "code",
   "execution_count": 20,
   "metadata": {},
   "outputs": [],
   "source": [
    "upperBound = 9\n",
    "lowerBound = 0\n",
    "index = 0\n",
    "counter = 0"
   ]
  },
  {
   "cell_type": "code",
   "execution_count": 21,
   "metadata": {},
   "outputs": [
    {
     "name": "stdout",
     "output_type": "stream",
     "text": [
      "Enter the number to be found: 17\n",
      "4\n",
      "Found at position:  4\n"
     ]
    }
   ],
   "source": [
    "found = False \n",
    "item = int(input(\"Enter the number to be found: \"))\n",
    "while found == False and counter <= 9:\n",
    "    index = (upperBound+lowerBound)//2\n",
    "    print(index)\n",
    "\n",
    "    if item == myNum[index]:\n",
    "        found = True \n",
    "        \n",
    "    if item > myNum[index]:\n",
    "        lowerBound = index + 1 \n",
    "    \n",
    "    if item < myNum[index]:\n",
    "        upperBound = index - 1 \n",
    "        \n",
    "    counter = counter + 1\n",
    "    \n",
    "if found == True:\n",
    "    print(\"Found at position: \", index)\n",
    "else:\n",
    "    print(\"Item not found\")"
   ]
  },
  {
   "cell_type": "code",
   "execution_count": null,
   "metadata": {},
   "outputs": [],
   "source": []
  },
  {
   "cell_type": "code",
   "execution_count": null,
   "metadata": {},
   "outputs": [],
   "source": []
  }
 ],
 "metadata": {
  "kernelspec": {
   "display_name": "Python 3",
   "language": "python",
   "name": "python3"
  }
 },
 "nbformat": 4,
 "nbformat_minor": 4
}
